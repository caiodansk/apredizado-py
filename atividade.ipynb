{
 "cells": [
  {
   "cell_type": "markdown",
   "metadata": {},
   "source": [
    "01. Faça um Programa que peça dois números e imprima o maior deles.\n"
   ]
  },
  {
   "cell_type": "code",
   "execution_count": 3,
   "metadata": {},
   "outputs": [
    {
     "name": "stdout",
     "output_type": "stream",
     "text": [
      "o numero maior é 2\n"
     ]
    }
   ],
   "source": [
    "numero1=int(input(\"Digite um número\"))\n",
    "numero2=int(input (\"Digite outro número\"))\n",
    "\n",
    "numeroMaior=max(numero1,numero2)\n",
    "\n",
    "if numero1 == numero2:\n",
    "    print(f\"O numero {numero1} e o numero {numero2} são iguais\")\n",
    "else:\n",
    "    print(f\"o numero maior é {numeroMaior}\")\n"
   ]
  },
  {
   "cell_type": "markdown",
   "metadata": {},
   "source": [
    "2.Faça um Programa que peça um valor e mostre na tela se o valor é positivo ou negativo."
   ]
  },
  {
   "cell_type": "code",
   "execution_count": 4,
   "metadata": {},
   "outputs": [
    {
     "name": "stdout",
     "output_type": "stream",
     "text": [
      "O numero 3 é positivo\n"
     ]
    }
   ],
   "source": [
    "numero = int(input(\"digite um número\"))\n",
    "if numero < 0:\n",
    "    print(f\"O numero {numero} é negativo\")\n",
    "else:\n",
    "    print(f\"O numero {numero} é positivo\")"
   ]
  },
  {
   "cell_type": "markdown",
   "metadata": {},
   "source": [
    "3.Faça um Programa que verifique se uma letra digitada é \"F\" ou \"M\". Conforme a letra escrever: F - Feminino, M - Masculino, Sexo Inválido."
   ]
  },
  {
   "cell_type": "code",
   "execution_count": 5,
   "metadata": {},
   "outputs": [],
   "source": [
    "sexo =input(\"digite uma letra referente ao seu sexo F para feminino ou M para masculino\")\n",
    "sexo = sexo.upper ()\n",
    "if sexo == \"F\" :\n",
    "    print (f\"Seu sexo é : Feminino\")\n",
    "elif sexo == \"M\":\n",
    "    print(f\"Seu sexo é : Masculino\")\n"
   ]
  },
  {
   "cell_type": "markdown",
   "metadata": {},
   "source": [
    "4.Faça um Programa que verifique se uma letra digitada é vogal ou consoante."
   ]
  },
  {
   "cell_type": "code",
   "execution_count": null,
   "metadata": {},
   "outputs": [
    {
     "name": "stdout",
     "output_type": "stream",
     "text": [
      "O caractere digitado não é uma letra.\n"
     ]
    }
   ],
   "source": [
    "\n",
    "caractere = input(\"Digite uma letra: \").lower()\n",
    "\n",
    "\n",
    "if caractere.isalpha():\n",
    "\n",
    "    if caractere in 'aeiou':\n",
    "        print(\"O caractere digitado é uma vogal.\")\n",
    "    else:\n",
    "        print(\"O caractere digitado é uma consoante.\")\n",
    "else:\n",
    "    print(\"O caractere digitado não é uma letra.\")"
   ]
  },
  {
   "cell_type": "markdown",
   "metadata": {},
   "source": [
    "5.Faça um programa para a leitura de duas notas parciais de um aluno. O programa deve calcular a média alcançada por aluno e apresentar:\n",
    "A mensagem \"Aprovado\", se a média alcançada for maior ou igual a sete;\n",
    "A mensagem \"Reprovado\", se a média for menor do que sete;"
   ]
  },
  {
   "cell_type": "code",
   "execution_count": null,
   "metadata": {},
   "outputs": [
    {
     "name": "stdout",
     "output_type": "stream",
     "text": [
      "sua nota foi 10.0 parabéns você foi aprovado\n"
     ]
    }
   ],
   "source": [
    "nota1=int(input(\"Digite a primeira nota\"))\n",
    "nota2=int(input(\"Digite a segunda nota\"))\n",
    "\n",
    "media= (nota1+nota2)/2\n",
    "if media >=7 :\n",
    "    print(f\"sua nota foi {media} parabéns você foi aprovado\")\n",
    "else:\n",
    "    print(f\"sua nota foi {media}  você foi reprovado\")"
   ]
  },
  {
   "cell_type": "markdown",
   "metadata": {},
   "source": [
    "6.Faça um Programa que leia três números e mostre o maior deles."
   ]
  },
  {
   "cell_type": "code",
   "execution_count": 3,
   "metadata": {},
   "outputs": [
    {
     "name": "stdout",
     "output_type": "stream",
     "text": [
      "o numero maior é 30\n"
     ]
    }
   ],
   "source": [
    "num1 = int(input(\"digite o primeiro numero\"))\n",
    "num2 = int(input(\"digite o segundo numero\"))\n",
    "num3 = int(input(\"digite o terceiro numero\"))\n",
    "\n",
    "numeroMaior = max(num1,num2,num3) \n",
    "print(f\"o numero maior é {numeroMaior}\")"
   ]
  },
  {
   "cell_type": "markdown",
   "metadata": {},
   "source": [
    "Faça um Programa que leia três números e mostre o maior e o menor deles."
   ]
  },
  {
   "cell_type": "code",
   "execution_count": 4,
   "metadata": {},
   "outputs": [
    {
     "name": "stdout",
     "output_type": "stream",
     "text": [
      "o numero maior é 40 e o menor é 20\n"
     ]
    }
   ],
   "source": [
    "num1 = int(input(\"digite o primeiro numero\"))\n",
    "num2 = int(input(\"digite o segundo numero\"))\n",
    "num3 = int(input(\"digite o terceiro numero\"))\n",
    "\n",
    "numeroMaior = max(num1,num2,num3) \n",
    "numeroMenor = min (num1,num2,num3) \n",
    "print(f\"o numero maior é {numeroMaior} e o menor é {numeroMenor}\")\n",
    "\n"
   ]
  },
  {
   "cell_type": "markdown",
   "metadata": {},
   "source": [
    "Faça um programa que pergunte o preço de três produtos e informe qual produto você deve comprar, sabendo que a decisão é sempre pelo mais barato."
   ]
  },
  {
   "cell_type": "code",
   "execution_count": 5,
   "metadata": {},
   "outputs": [
    {
     "name": "stdout",
     "output_type": "stream",
     "text": [
      "o produto mais barato pra você comprar é 20\n"
     ]
    }
   ],
   "source": [
    "p1=int(input(\"QUAL O VALOR DO PRODUTO 1?\"))\n",
    "p2=int(input(\"QUAL O VALOR DO PRODUTO 2?\"))\n",
    "p3=int(input(\"QUAL O VALOR DO PRODUTO 3?\"))\n",
    "\n",
    "produtoBarato=min(p1,p2,p3)\n",
    "print(f\"o produto mais barato pra você comprar é {produtoBarato}\")"
   ]
  },
  {
   "cell_type": "markdown",
   "metadata": {},
   "source": [
    "Faça um Programa que leia três números e mostre-os em ordem decrescente."
   ]
  },
  {
   "cell_type": "code",
   "execution_count": 9,
   "metadata": {},
   "outputs": [
    {
     "name": "stdout",
     "output_type": "stream",
     "text": [
      "os numeros em ordem decrescente são 30,20,10\n"
     ]
    }
   ],
   "source": [
    "num1=int(input(\"digite um numero\"))\n",
    "num2=int(input(\"digite outro numero\"))\n",
    "num3=int(input(\"digite mais numero\"))\n",
    "\n",
    "maior=max(num1,num2,num3)\n",
    "menor=min(num1,num2,num3)\n",
    "meio=num1+num2+num3-maior-menor\n",
    "\n",
    "print(f\"os numeros em ordem decrescente são {maior},{meio},{menor}\")"
   ]
  },
  {
   "cell_type": "markdown",
   "metadata": {},
   "source": [
    "Faça um Programa que pergunte em que turno você estuda. Peça para digitar M-matutino ou V-Vespertino ou N- Noturno. Imprima a mensagem \"Bom Dia!\", \"Boa Tarde!\" ou \"Boa Noite!\" ou \"Valor Inválido!\", conforme o caso.\n"
   ]
  },
  {
   "cell_type": "code",
   "execution_count": 11,
   "metadata": {},
   "outputs": [
    {
     "name": "stdout",
     "output_type": "stream",
     "text": [
      "boa noite\n"
     ]
    }
   ],
   "source": [
    "turno=(input(\"digite seu turno que  estuda se for matutino digite M SE for vespetino digite V se for nortuno digite N\")).upper()\n",
    "\n",
    "if turno == \"M\":\n",
    "    print(\"bom dia!\")\n",
    "elif turno == \"V\":\n",
    "    print(\"boa tarde!\")\n",
    "elif turno == \"N\":\n",
    "    print(\"boa noite\")\n",
    "else:\n",
    "    print(\"Valor Inválido!\")"
   ]
  },
  {
   "cell_type": "markdown",
   "metadata": {},
   "source": [
    "As Organizações Tabajara resolveram dar um aumento de salário aos seus colaboradores e lhe contraram para desenvolver o programa que calculará os reajustes.\n",
    "Faça um programa que recebe o salário de um colaborador e o reajuste segundo o seguinte critério, baseado no salário atual:\n",
    "salários até R$ 280,00 (incluindo) : aumento de 20%\n",
    "salários entre R$ 280,00 e R$ 700,00 : aumento de 15%\n",
    "salários entre R$ 700,00 e R$ 1500,00 : aumento de 10%\n",
    "salários de R$ 1500,00 em diante : aumento de 5% Após o aumento ser realizado, informe na tela:\n",
    "o salário antes do reajuste;\n",
    "o percentual de aumento aplicado;\n",
    "o valor do aumento;\n",
    "o novo salário, após o aumento."
   ]
  },
  {
   "cell_type": "code",
   "execution_count": 12,
   "metadata": {},
   "outputs": [
    {
     "name": "stdout",
     "output_type": "stream",
     "text": [
      "\n",
      "Salário antes do reajuste: R$ 2000.00\n",
      "Percentual de aumento aplicado: 5%\n",
      "Valor do aumento: R$ 100.00\n",
      "Novo salário, após o aumento: R$ 2100.00\n"
     ]
    }
   ],
   "source": [
    "salario_atual = float(input(\"Digite o salário do colaborador: R$ \"))\n",
    "\n",
    "\n",
    "if salario_atual <= 280.00:\n",
    "    percentual_aumento = 20\n",
    "\n",
    "elif salario_atual <= 700.00:\n",
    "    percentual_aumento = 15\n",
    "\n",
    "elif salario_atual <= 1500.00:\n",
    "    percentual_aumento = 10\n",
    "\n",
    "else:\n",
    "    percentual_aumento = 5\n",
    "\n",
    "\n",
    "valor_aumento = salario_atual * (percentual_aumento / 100)\n",
    "novo_salario = salario_atual + valor_aumento\n",
    "\n",
    "print(f\"\\nSalário antes do reajuste: R$ {salario_atual:.2f}\")\n",
    "print(f\"Percentual de aumento aplicado: {percentual_aumento}%\")\n",
    "print(f\"Valor do aumento: R$ {valor_aumento:.2f}\")\n",
    "print(f\"Novo salário, após o aumento: R$ {novo_salario:.2f}\")\n"
   ]
  }
 ],
 "metadata": {
  "kernelspec": {
   "display_name": "Python 3",
   "language": "python",
   "name": "python3"
  },
  "language_info": {
   "codemirror_mode": {
    "name": "ipython",
    "version": 3
   },
   "file_extension": ".py",
   "mimetype": "text/x-python",
   "name": "python",
   "nbconvert_exporter": "python",
   "pygments_lexer": "ipython3",
   "version": "3.12.6"
  }
 },
 "nbformat": 4,
 "nbformat_minor": 2
}

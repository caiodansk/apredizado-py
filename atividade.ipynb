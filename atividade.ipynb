{
 "cells": [
  {
   "cell_type": "markdown",
   "metadata": {},
   "source": [
    "01. Faça um Programa que peça dois números e imprima o maior deles.\n"
   ]
  },
  {
   "cell_type": "code",
   "execution_count": 1,
   "metadata": {},
   "outputs": [
    {
     "name": "stdout",
     "output_type": "stream",
     "text": [
      "o numero maior é 10\n"
     ]
    }
   ],
   "source": [
    "numero1=int(input(\"Digite um número\"))\n",
    "numero2=int(input (\"Digite outro número\"))\n",
    "\n",
    "numeroMaior=max(numero1,numero2)\n",
    "\n",
    "if numero1 == numero2:\n",
    "    print(f\"O numero {numero1} e o numero {numero2} são iguais\")\n",
    "else:\n",
    "    print(f\"o numero maior é {numeroMaior}\")\n"
   ]
  },
  {
   "cell_type": "markdown",
   "metadata": {},
   "source": [
    "Faça um Programa que peça um valor e mostre na tela se o valor é positivo ou negativo."
   ]
  },
  {
   "cell_type": "code",
   "execution_count": 4,
   "metadata": {},
   "outputs": [
    {
     "name": "stdout",
     "output_type": "stream",
     "text": [
      "O numero -1 é negativo\n"
     ]
    }
   ],
   "source": [
    "numero = int(input(\"digite um número\"))\n",
    "if numero < 0:\n",
    "    print(f\"O numero {numero} é negativo\")\n",
    "else:\n",
    "    print(f\"O numero {numero} é positivo\")"
   ]
  },
  {
   "cell_type": "markdown",
   "metadata": {},
   "source": [
    "Faça um Programa que verifique se uma letra digitada é \"F\" ou \"M\". Conforme a letra escrever: F - Feminino, M - Masculino, Sexo Inválido."
   ]
  },
  {
   "cell_type": "code",
   "execution_count": null,
   "metadata": {},
   "outputs": [],
   "source": [
    "sexo =input(\"digite uma letra referente ao seu sexo F para feminino ou M para masculino\")\n",
    "\n",
    "if sexo == \"F\" or \"f\" :\n"
   ]
  }
 ],
 "metadata": {
  "kernelspec": {
   "display_name": "Python 3",
   "language": "python",
   "name": "python3"
  },
  "language_info": {
   "codemirror_mode": {
    "name": "ipython",
    "version": 3
   },
   "file_extension": ".py",
   "mimetype": "text/x-python",
   "name": "python",
   "nbconvert_exporter": "python",
   "pygments_lexer": "ipython3",
   "version": "3.12.0"
  }
 },
 "nbformat": 4,
 "nbformat_minor": 2
}
